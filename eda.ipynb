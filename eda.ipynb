{
 "cells": [
  {
   "cell_type": "markdown",
   "id": "659638ab",
   "metadata": {},
   "source": [
    "# Exploratory Data Analysis"
   ]
  },
  {
   "cell_type": "code",
   "execution_count": 1,
   "id": "06af2e9f",
   "metadata": {},
   "outputs": [],
   "source": [
    "import pandas as pd\n",
    "\n",
    "path = \"data/learning-equality-curriculum-recommendations\"\n",
    "topics_df = pd.read_csv(f\"{path}/topics.csv\")\n",
    "content_df = pd.read_csv(f\"{path}/content.csv\")\n",
    "correlations_df = pd.read_csv(f\"{path}/correlations.csv\")"
   ]
  },
  {
   "cell_type": "markdown",
   "id": "dac3a577",
   "metadata": {},
   "source": [
    "### Topics DataFrame"
   ]
  },
  {
   "cell_type": "code",
   "execution_count": 2,
   "id": "acba13a9",
   "metadata": {},
   "outputs": [
    {
     "data": {
      "text/html": [
       "<div>\n",
       "<style scoped>\n",
       "    .dataframe tbody tr th:only-of-type {\n",
       "        vertical-align: middle;\n",
       "    }\n",
       "\n",
       "    .dataframe tbody tr th {\n",
       "        vertical-align: top;\n",
       "    }\n",
       "\n",
       "    .dataframe thead th {\n",
       "        text-align: right;\n",
       "    }\n",
       "</style>\n",
       "<table border=\"1\" class=\"dataframe\">\n",
       "  <thead>\n",
       "    <tr style=\"text-align: right;\">\n",
       "      <th></th>\n",
       "      <th>id</th>\n",
       "      <th>title</th>\n",
       "      <th>description</th>\n",
       "      <th>channel</th>\n",
       "      <th>category</th>\n",
       "      <th>level</th>\n",
       "      <th>language</th>\n",
       "      <th>parent</th>\n",
       "      <th>has_content</th>\n",
       "    </tr>\n",
       "  </thead>\n",
       "  <tbody>\n",
       "    <tr>\n",
       "      <th>46585</th>\n",
       "      <td>t_9c187b338e4b</td>\n",
       "      <td>পাঁচ অংকের সংখ্যা</td>\n",
       "      <td>NaN</td>\n",
       "      <td>36068f</td>\n",
       "      <td>aligned</td>\n",
       "      <td>4</td>\n",
       "      <td>bn</td>\n",
       "      <td>t_40a9a574bc1c</td>\n",
       "      <td>True</td>\n",
       "    </tr>\n",
       "    <tr>\n",
       "      <th>17263</th>\n",
       "      <td>t_39ea124896a1</td>\n",
       "      <td>Adding &amp; subtracting rational numbers</td>\n",
       "      <td>We're going to mix it up a little in this set ...</td>\n",
       "      <td>0ec697</td>\n",
       "      <td>source</td>\n",
       "      <td>4</td>\n",
       "      <td>en</td>\n",
       "      <td>t_6420004958c0</td>\n",
       "      <td>True</td>\n",
       "    </tr>\n",
       "    <tr>\n",
       "      <th>56142</th>\n",
       "      <td>t_bbac34962bbf</td>\n",
       "      <td>Plants and Animals</td>\n",
       "      <td>B2.2.1.2\\tDemonstrate understanding of element...</td>\n",
       "      <td>0a9df7</td>\n",
       "      <td>aligned</td>\n",
       "      <td>3</td>\n",
       "      <td>en</td>\n",
       "      <td>t_fd97cc216bc5</td>\n",
       "      <td>True</td>\n",
       "    </tr>\n",
       "    <tr>\n",
       "      <th>29776</th>\n",
       "      <td>t_639930e1909b</td>\n",
       "      <td>\"مَيْمونَةُ\" في إِثْيوبْيا</td>\n",
       "      <td>NaN</td>\n",
       "      <td>7b47c5</td>\n",
       "      <td>source</td>\n",
       "      <td>4</td>\n",
       "      <td>ar</td>\n",
       "      <td>t_5c935eadb393</td>\n",
       "      <td>True</td>\n",
       "    </tr>\n",
       "    <tr>\n",
       "      <th>65301</th>\n",
       "      <td>t_d9e41c8a030d</td>\n",
       "      <td>Kutoa desimali</td>\n",
       "      <td>Chochote unachoweza kufanya na namba nzima , u...</td>\n",
       "      <td>0c929f</td>\n",
       "      <td>source</td>\n",
       "      <td>4</td>\n",
       "      <td>sw</td>\n",
       "      <td>t_43f0f6531367</td>\n",
       "      <td>True</td>\n",
       "    </tr>\n",
       "  </tbody>\n",
       "</table>\n",
       "</div>"
      ],
      "text/plain": [
       "                   id                                  title  \\\n",
       "46585  t_9c187b338e4b                      পাঁচ অংকের সংখ্যা   \n",
       "17263  t_39ea124896a1  Adding & subtracting rational numbers   \n",
       "56142  t_bbac34962bbf                     Plants and Animals   \n",
       "29776  t_639930e1909b             \"مَيْمونَةُ\" في إِثْيوبْيا   \n",
       "65301  t_d9e41c8a030d                         Kutoa desimali   \n",
       "\n",
       "                                             description channel category  \\\n",
       "46585                                                NaN  36068f  aligned   \n",
       "17263  We're going to mix it up a little in this set ...  0ec697   source   \n",
       "56142  B2.2.1.2\\tDemonstrate understanding of element...  0a9df7  aligned   \n",
       "29776                                                NaN  7b47c5   source   \n",
       "65301  Chochote unachoweza kufanya na namba nzima , u...  0c929f   source   \n",
       "\n",
       "       level language          parent  has_content  \n",
       "46585      4       bn  t_40a9a574bc1c         True  \n",
       "17263      4       en  t_6420004958c0         True  \n",
       "56142      3       en  t_fd97cc216bc5         True  \n",
       "29776      4       ar  t_5c935eadb393         True  \n",
       "65301      4       sw  t_43f0f6531367         True  "
      ]
     },
     "execution_count": 2,
     "metadata": {},
     "output_type": "execute_result"
    }
   ],
   "source": [
    "topics_df.sample(n=5, random_state=42)"
   ]
  },
  {
   "cell_type": "code",
   "execution_count": 3,
   "id": "6fdea591",
   "metadata": {},
   "outputs": [
    {
     "name": "stdout",
     "output_type": "stream",
     "text": [
      "<class 'pandas.core.frame.DataFrame'>\n",
      "RangeIndex: 76972 entries, 0 to 76971\n",
      "Data columns (total 9 columns):\n",
      " #   Column       Non-Null Count  Dtype \n",
      "---  ------       --------------  ----- \n",
      " 0   id           76972 non-null  object\n",
      " 1   title        76970 non-null  object\n",
      " 2   description  34953 non-null  object\n",
      " 3   channel      76972 non-null  object\n",
      " 4   category     76972 non-null  object\n",
      " 5   level        76972 non-null  int64 \n",
      " 6   language     76972 non-null  object\n",
      " 7   parent       76801 non-null  object\n",
      " 8   has_content  76972 non-null  bool  \n",
      "dtypes: bool(1), int64(1), object(7)\n",
      "memory usage: 4.8+ MB\n"
     ]
    }
   ],
   "source": [
    "\"\"\"\n",
    "Columns with null values:\n",
    "- title\n",
    "- description (almost half of the topic ids have description)\n",
    "- parent\n",
    "\"\"\"\n",
    "\n",
    "topics_df.info()"
   ]
  },
  {
   "cell_type": "code",
   "execution_count": 4,
   "id": "8e245d0a",
   "metadata": {},
   "outputs": [
    {
     "data": {
      "text/html": [
       "<div>\n",
       "<style scoped>\n",
       "    .dataframe tbody tr th:only-of-type {\n",
       "        vertical-align: middle;\n",
       "    }\n",
       "\n",
       "    .dataframe tbody tr th {\n",
       "        vertical-align: top;\n",
       "    }\n",
       "\n",
       "    .dataframe thead th {\n",
       "        text-align: right;\n",
       "    }\n",
       "</style>\n",
       "<table border=\"1\" class=\"dataframe\">\n",
       "  <thead>\n",
       "    <tr style=\"text-align: right;\">\n",
       "      <th></th>\n",
       "      <th>id</th>\n",
       "      <th>title</th>\n",
       "      <th>description</th>\n",
       "      <th>channel</th>\n",
       "      <th>category</th>\n",
       "      <th>language</th>\n",
       "      <th>parent</th>\n",
       "    </tr>\n",
       "  </thead>\n",
       "  <tbody>\n",
       "    <tr>\n",
       "      <th>count</th>\n",
       "      <td>76972</td>\n",
       "      <td>76970</td>\n",
       "      <td>34953</td>\n",
       "      <td>76972</td>\n",
       "      <td>76972</td>\n",
       "      <td>76972</td>\n",
       "      <td>76801</td>\n",
       "    </tr>\n",
       "    <tr>\n",
       "      <th>unique</th>\n",
       "      <td>76972</td>\n",
       "      <td>45082</td>\n",
       "      <td>23067</td>\n",
       "      <td>171</td>\n",
       "      <td>3</td>\n",
       "      <td>28</td>\n",
       "      <td>17512</td>\n",
       "    </tr>\n",
       "    <tr>\n",
       "      <th>top</th>\n",
       "      <td>t_00004da3a1b2</td>\n",
       "      <td>Assessments</td>\n",
       "      <td>v0.1</td>\n",
       "      <td>fef095</td>\n",
       "      <td>source</td>\n",
       "      <td>en</td>\n",
       "      <td>t_344131c2889b</td>\n",
       "    </tr>\n",
       "    <tr>\n",
       "      <th>freq</th>\n",
       "      <td>1</td>\n",
       "      <td>558</td>\n",
       "      <td>371</td>\n",
       "      <td>5770</td>\n",
       "      <td>43487</td>\n",
       "      <td>36161</td>\n",
       "      <td>270</td>\n",
       "    </tr>\n",
       "  </tbody>\n",
       "</table>\n",
       "</div>"
      ],
      "text/plain": [
       "                    id        title description channel category language  \\\n",
       "count            76972        76970       34953   76972    76972    76972   \n",
       "unique           76972        45082       23067     171        3       28   \n",
       "top     t_00004da3a1b2  Assessments        v0.1  fef095   source       en   \n",
       "freq                 1          558         371    5770    43487    36161   \n",
       "\n",
       "                parent  \n",
       "count            76801  \n",
       "unique           17512  \n",
       "top     t_344131c2889b  \n",
       "freq               270  "
      ]
     },
     "execution_count": 4,
     "metadata": {},
     "output_type": "execute_result"
    }
   ],
   "source": [
    "# Describe categorical variables\n",
    "\n",
    "topics_df.describe(include='object')"
   ]
  },
  {
   "cell_type": "code",
   "execution_count": 5,
   "id": "203462c4",
   "metadata": {},
   "outputs": [
    {
     "data": {
      "text/plain": [
       "category\n",
       "source          43487\n",
       "supplemental    19368\n",
       "aligned         14117\n",
       "Name: count, dtype: int64"
      ]
     },
     "execution_count": 5,
     "metadata": {},
     "output_type": "execute_result"
    }
   ],
   "source": [
    "\"\"\"\n",
    "Categories are unbalanced.\n",
    "- source: Original content creator.\n",
    "- aligned: Content aligned from multiple sources.\n",
    "- supplemental: Aligned extent.\n",
    "\"\"\"\n",
    "\n",
    "topics_df.category.value_counts()"
   ]
  },
  {
   "cell_type": "markdown",
   "id": "ce8f1fef",
   "metadata": {},
   "source": [
    "### Content DataFrame"
   ]
  },
  {
   "cell_type": "code",
   "execution_count": 6,
   "id": "f369340f",
   "metadata": {},
   "outputs": [
    {
     "data": {
      "text/html": [
       "<div>\n",
       "<style scoped>\n",
       "    .dataframe tbody tr th:only-of-type {\n",
       "        vertical-align: middle;\n",
       "    }\n",
       "\n",
       "    .dataframe tbody tr th {\n",
       "        vertical-align: top;\n",
       "    }\n",
       "\n",
       "    .dataframe thead th {\n",
       "        text-align: right;\n",
       "    }\n",
       "</style>\n",
       "<table border=\"1\" class=\"dataframe\">\n",
       "  <thead>\n",
       "    <tr style=\"text-align: right;\">\n",
       "      <th></th>\n",
       "      <th>id</th>\n",
       "      <th>title</th>\n",
       "      <th>description</th>\n",
       "      <th>kind</th>\n",
       "      <th>text</th>\n",
       "      <th>language</th>\n",
       "      <th>copyright_holder</th>\n",
       "      <th>license</th>\n",
       "    </tr>\n",
       "  </thead>\n",
       "  <tbody>\n",
       "    <tr>\n",
       "      <th>1943</th>\n",
       "      <td>c_035ca90fce31</td>\n",
       "      <td>Pasandida adakaar</td>\n",
       "      <td>source_url=http://www.prathamopenschool.org/Co...</td>\n",
       "      <td>video</td>\n",
       "      <td>NaN</td>\n",
       "      <td>ur</td>\n",
       "      <td>NaN</td>\n",
       "      <td>NaN</td>\n",
       "    </tr>\n",
       "    <tr>\n",
       "      <th>7473</th>\n",
       "      <td>c_0c80eac52f35</td>\n",
       "      <td>11.1.2-end-of-unit-assessment-11.1.2.l25.pdf</td>\n",
       "      <td>11.1.2-end-of-unit-assessment-11.1.2.l25.pdf</td>\n",
       "      <td>document</td>\n",
       "      <td>NYS Common Core ELA &amp; Literacy Curriculum\\n\\nG...</td>\n",
       "      <td>es</td>\n",
       "      <td>Engage NY</td>\n",
       "      <td>CC BY-NC-SA</td>\n",
       "    </tr>\n",
       "    <tr>\n",
       "      <th>28272</th>\n",
       "      <td>c_2ede3220832b</td>\n",
       "      <td>कल्पनाशीलता का उपयोग करना : बीजगणितीय सर्वसमिक...</td>\n",
       "      <td>NaN</td>\n",
       "      <td>document</td>\n",
       "      <td>dYiuk’khyrk dk mi;ksx djuk: chtxf.krh; loZlfed...</td>\n",
       "      <td>hi</td>\n",
       "      <td>The Open University</td>\n",
       "      <td>CC BY-NC-SA</td>\n",
       "    </tr>\n",
       "    <tr>\n",
       "      <th>6031</th>\n",
       "      <td>c_0a2abb6566ed</td>\n",
       "      <td>Electrical conduction in heart cells</td>\n",
       "      <td>NaN</td>\n",
       "      <td>video</td>\n",
       "      <td>-Let's talk about electrical conduction in hea...</td>\n",
       "      <td>en</td>\n",
       "      <td>Khan Academy</td>\n",
       "      <td>CC BY-NC-SA</td>\n",
       "    </tr>\n",
       "    <tr>\n",
       "      <th>116703</th>\n",
       "      <td>c_c1addc86cdf2</td>\n",
       "      <td>Една и съща скорост с различни мерни единици</td>\n",
       "      <td>Сал показва как можем да представим скоростта ...</td>\n",
       "      <td>video</td>\n",
       "      <td>NaN</td>\n",
       "      <td>bg</td>\n",
       "      <td>NaN</td>\n",
       "      <td>NaN</td>\n",
       "    </tr>\n",
       "  </tbody>\n",
       "</table>\n",
       "</div>"
      ],
      "text/plain": [
       "                    id                                              title  \\\n",
       "1943    c_035ca90fce31                                  Pasandida adakaar   \n",
       "7473    c_0c80eac52f35       11.1.2-end-of-unit-assessment-11.1.2.l25.pdf   \n",
       "28272   c_2ede3220832b  कल्पनाशीलता का उपयोग करना : बीजगणितीय सर्वसमिक...   \n",
       "6031    c_0a2abb6566ed               Electrical conduction in heart cells   \n",
       "116703  c_c1addc86cdf2       Една и съща скорост с различни мерни единици   \n",
       "\n",
       "                                              description      kind  \\\n",
       "1943    source_url=http://www.prathamopenschool.org/Co...     video   \n",
       "7473         11.1.2-end-of-unit-assessment-11.1.2.l25.pdf  document   \n",
       "28272                                                 NaN  document   \n",
       "6031                                                  NaN     video   \n",
       "116703  Сал показва как можем да представим скоростта ...     video   \n",
       "\n",
       "                                                     text language  \\\n",
       "1943                                                  NaN       ur   \n",
       "7473    NYS Common Core ELA & Literacy Curriculum\\n\\nG...       es   \n",
       "28272   dYiuk’khyrk dk mi;ksx djuk: chtxf.krh; loZlfed...       hi   \n",
       "6031    -Let's talk about electrical conduction in hea...       en   \n",
       "116703                                                NaN       bg   \n",
       "\n",
       "           copyright_holder      license  \n",
       "1943                    NaN          NaN  \n",
       "7473              Engage NY  CC BY-NC-SA  \n",
       "28272   The Open University  CC BY-NC-SA  \n",
       "6031           Khan Academy  CC BY-NC-SA  \n",
       "116703                  NaN          NaN  "
      ]
     },
     "execution_count": 6,
     "metadata": {},
     "output_type": "execute_result"
    }
   ],
   "source": [
    "content_df.sample(n=5, random_state=42)"
   ]
  },
  {
   "cell_type": "code",
   "execution_count": 7,
   "id": "043eded7",
   "metadata": {},
   "outputs": [
    {
     "name": "stdout",
     "output_type": "stream",
     "text": [
      "<class 'pandas.core.frame.DataFrame'>\n",
      "RangeIndex: 154047 entries, 0 to 154046\n",
      "Data columns (total 8 columns):\n",
      " #   Column            Non-Null Count   Dtype \n",
      "---  ------            --------------   ----- \n",
      " 0   id                154047 non-null  object\n",
      " 1   title             154038 non-null  object\n",
      " 2   description       89456 non-null   object\n",
      " 3   kind              154047 non-null  object\n",
      " 4   text              74035 non-null   object\n",
      " 5   language          154047 non-null  object\n",
      " 6   copyright_holder  71821 non-null   object\n",
      " 7   license           74035 non-null   object\n",
      "dtypes: object(8)\n",
      "memory usage: 9.4+ MB\n"
     ]
    }
   ],
   "source": [
    "\"\"\"\n",
    "Columns with null values:\n",
    "- title\n",
    "- description       (more than half of the content ids have description)\n",
    "- text              (less than half of the content ids have text)\n",
    "- copyright_holder  (less than half of the content ids have copyright_holder)\n",
    "- license           (less than half of the content ids have license)\n",
    "\"\"\"\n",
    "\n",
    "content_df.info()"
   ]
  },
  {
   "cell_type": "markdown",
   "id": "ae7fec91",
   "metadata": {},
   "source": [
    "### Correlations DataFrame"
   ]
  },
  {
   "cell_type": "code",
   "execution_count": 8,
   "id": "ab432c99",
   "metadata": {},
   "outputs": [
    {
     "data": {
      "text/html": [
       "<div>\n",
       "<style scoped>\n",
       "    .dataframe tbody tr th:only-of-type {\n",
       "        vertical-align: middle;\n",
       "    }\n",
       "\n",
       "    .dataframe tbody tr th {\n",
       "        vertical-align: top;\n",
       "    }\n",
       "\n",
       "    .dataframe thead th {\n",
       "        text-align: right;\n",
       "    }\n",
       "</style>\n",
       "<table border=\"1\" class=\"dataframe\">\n",
       "  <thead>\n",
       "    <tr style=\"text-align: right;\">\n",
       "      <th></th>\n",
       "      <th>topic_id</th>\n",
       "      <th>content_ids</th>\n",
       "    </tr>\n",
       "  </thead>\n",
       "  <tbody>\n",
       "    <tr>\n",
       "      <th>15767</th>\n",
       "      <td>t_42815751d389</td>\n",
       "      <td>c_51975483e3bd c_abdbed326895</td>\n",
       "    </tr>\n",
       "    <tr>\n",
       "      <th>29156</th>\n",
       "      <td>t_79f66fa1ab3e</td>\n",
       "      <td>c_628b94a51fef</td>\n",
       "    </tr>\n",
       "    <tr>\n",
       "      <th>47487</th>\n",
       "      <td>t_c661006df3b7</td>\n",
       "      <td>c_a42f81c1db4f</td>\n",
       "    </tr>\n",
       "    <tr>\n",
       "      <th>4519</th>\n",
       "      <td>t_13047d953c48</td>\n",
       "      <td>c_1e28eb99814a c_4092e9657506 c_a3e140eb1f60 c...</td>\n",
       "    </tr>\n",
       "    <tr>\n",
       "      <th>4162</th>\n",
       "      <td>t_117c91f1f343</td>\n",
       "      <td>c_c6759113f661 c_f095cb4908d4</td>\n",
       "    </tr>\n",
       "  </tbody>\n",
       "</table>\n",
       "</div>"
      ],
      "text/plain": [
       "             topic_id                                        content_ids\n",
       "15767  t_42815751d389                      c_51975483e3bd c_abdbed326895\n",
       "29156  t_79f66fa1ab3e                                     c_628b94a51fef\n",
       "47487  t_c661006df3b7                                     c_a42f81c1db4f\n",
       "4519   t_13047d953c48  c_1e28eb99814a c_4092e9657506 c_a3e140eb1f60 c...\n",
       "4162   t_117c91f1f343                      c_c6759113f661 c_f095cb4908d4"
      ]
     },
     "execution_count": 8,
     "metadata": {},
     "output_type": "execute_result"
    }
   ],
   "source": [
    "correlations_df.sample(n=5, random_state=42)"
   ]
  },
  {
   "cell_type": "code",
   "execution_count": 9,
   "id": "b65fb540",
   "metadata": {},
   "outputs": [
    {
     "name": "stdout",
     "output_type": "stream",
     "text": [
      "<class 'pandas.core.frame.DataFrame'>\n",
      "RangeIndex: 61517 entries, 0 to 61516\n",
      "Data columns (total 2 columns):\n",
      " #   Column       Non-Null Count  Dtype \n",
      "---  ------       --------------  ----- \n",
      " 0   topic_id     61517 non-null  object\n",
      " 1   content_ids  61517 non-null  object\n",
      "dtypes: object(2)\n",
      "memory usage: 961.3+ KB\n"
     ]
    }
   ],
   "source": [
    "# There are no null values in correlations_df\n",
    "correlations_df.info()"
   ]
  },
  {
   "cell_type": "code",
   "execution_count": 10,
   "id": "26a51f29",
   "metadata": {},
   "outputs": [
    {
     "data": {
      "text/html": [
       "<div>\n",
       "<style scoped>\n",
       "    .dataframe tbody tr th:only-of-type {\n",
       "        vertical-align: middle;\n",
       "    }\n",
       "\n",
       "    .dataframe tbody tr th {\n",
       "        vertical-align: top;\n",
       "    }\n",
       "\n",
       "    .dataframe thead th {\n",
       "        text-align: right;\n",
       "    }\n",
       "</style>\n",
       "<table border=\"1\" class=\"dataframe\">\n",
       "  <thead>\n",
       "    <tr style=\"text-align: right;\">\n",
       "      <th></th>\n",
       "      <th>topic_id</th>\n",
       "      <th>content_ids</th>\n",
       "    </tr>\n",
       "  </thead>\n",
       "  <tbody>\n",
       "    <tr>\n",
       "      <th>count</th>\n",
       "      <td>61517</td>\n",
       "      <td>61517</td>\n",
       "    </tr>\n",
       "    <tr>\n",
       "      <th>unique</th>\n",
       "      <td>61517</td>\n",
       "      <td>47299</td>\n",
       "    </tr>\n",
       "    <tr>\n",
       "      <th>top</th>\n",
       "      <td>t_00004da3a1b2</td>\n",
       "      <td>c_dd739e116435</td>\n",
       "    </tr>\n",
       "    <tr>\n",
       "      <th>freq</th>\n",
       "      <td>1</td>\n",
       "      <td>122</td>\n",
       "    </tr>\n",
       "  </tbody>\n",
       "</table>\n",
       "</div>"
      ],
      "text/plain": [
       "              topic_id     content_ids\n",
       "count            61517           61517\n",
       "unique           61517           47299\n",
       "top     t_00004da3a1b2  c_dd739e116435\n",
       "freq                 1             122"
      ]
     },
     "execution_count": 10,
     "metadata": {},
     "output_type": "execute_result"
    }
   ],
   "source": [
    "# Topic_id column does have duplicate values\n",
    "correlations_df.describe(include='object')"
   ]
  },
  {
   "cell_type": "code",
   "execution_count": null,
   "id": "82a5792a",
   "metadata": {},
   "outputs": [],
   "source": [
    "# Skip this cell in the first instance\n",
    "# Run if you get an error in the following cell related to matplotlib-inline \"ValueError: Key backend\"\n",
    "%pip install --upgrade matplotlib-inline"
   ]
  },
  {
   "cell_type": "code",
   "execution_count": 11,
   "id": "6cfe5071",
   "metadata": {},
   "outputs": [
    {
     "name": "stdout",
     "output_type": "stream",
     "text": [
      "       count_content_id\n",
      "count      61517.000000\n",
      "mean           4.550271\n",
      "std            6.700255\n",
      "min            1.000000\n",
      "25%            2.000000\n",
      "50%            3.000000\n",
      "75%            5.000000\n",
      "max          293.000000\n",
      "Number of topics with more than 5 content_ids: 15127\n",
      "\n",
      "Number of topics with less than or equal to 5 content_ids: 46390\n"
     ]
    },
    {
     "data": {
      "image/png": "[encoded data removed]",
      "text/plain": [
       "<Figure size 1200x600 with 1 Axes>"
      ]
     },
     "metadata": {},
     "output_type": "display_data"
    }
   ],
   "source": [
    "import matplotlib.pyplot as plt\n",
    "import seaborn as sns\n",
    "\n",
    "correlations_df[\"count_content_id\"] = correlations_df[\"content_ids\"].apply(\n",
    "    lambda x: len(str(x).split(sep=\" \"))\n",
    ")\n",
    "correlations_df.sort_values(by=\"count_content_id\", ascending=False, inplace=True)\n",
    "print(correlations_df.describe())\n",
    "\n",
    "# Filter topics with more than 5 content_ids, Q4 75-100%\n",
    "count_m_5 = sum(correlations_df[\"count_content_id\"] > 5)\n",
    "print(f\"Number of topics with more than 5 content_ids: {count_m_5}\")\n",
    "\n",
    "x_m_5 = topics_df.set_index(\"id\").loc[\n",
    "    correlations_df[\"topic_id\"].head(count_m_5), \"category\"\n",
    "]\n",
    "\n",
    "#Filter topics with less than or equal to 5 content_ids, 0-75%\n",
    "count_el_5 = sum(correlations_df[\"count_content_id\"] <= 5)\n",
    "x_el_5 = topics_df.set_index(\"id\").loc[\n",
    "    correlations_df[\"topic_id\"].tail(count_el_5), \"category\"\n",
    "]\n",
    "\n",
    "print(f\"\\nNumber of topics with less than or equal to 5 content_ids: {count_el_5}\")\n",
    "\n",
    "stacked_categories = pd.DataFrame({\n",
    "    'category': pd.concat([x_m_5, x_el_5], ignore_index=True),\n",
    "    'content': ['>5']*len(x_m_5) + ['<=5']*len(x_el_5)\n",
    "})\n",
    "\n",
    "plt.figure(figsize=(12,6))\n",
    "sns.countplot(x='category', hue='content', data=stacked_categories)\n",
    "plt.title(\"Category count per topic grouped by content_ids count (>5 and <=5)\")\n",
    "plt.ylabel(\"Number of category of topic_ids\")\n",
    "plt.show()"
   ]
  },
  {
   "cell_type": "code",
   "execution_count": 12,
   "id": "0603b7d7",
   "metadata": {},
   "outputs": [
    {
     "data": {
      "text/html": [
       "<div>\n",
       "<style scoped>\n",
       "    .dataframe tbody tr th:only-of-type {\n",
       "        vertical-align: middle;\n",
       "    }\n",
       "\n",
       "    .dataframe tbody tr th {\n",
       "        vertical-align: top;\n",
       "    }\n",
       "\n",
       "    .dataframe thead th {\n",
       "        text-align: right;\n",
       "    }\n",
       "</style>\n",
       "<table border=\"1\" class=\"dataframe\">\n",
       "  <thead>\n",
       "    <tr style=\"text-align: right;\">\n",
       "      <th></th>\n",
       "      <th>topic_id</th>\n",
       "      <th>content_id</th>\n",
       "      <th>count_content_id</th>\n",
       "      <th>content_language</th>\n",
       "      <th>topic_language</th>\n",
       "      <th>equal_language</th>\n",
       "      <th>radio</th>\n",
       "    </tr>\n",
       "  </thead>\n",
       "  <tbody>\n",
       "  </tbody>\n",
       "</table>\n",
       "</div>"
      ],
      "text/plain": [
       "Empty DataFrame\n",
       "Columns: [topic_id, content_id, count_content_id, content_language, topic_language, equal_language, radio]\n",
       "Index: []"
      ]
     },
     "execution_count": 12,
     "metadata": {},
     "output_type": "execute_result"
    }
   ],
   "source": [
    "correlations = correlations_df.copy()\n",
    "correlations[\"content_ids\"] = correlations[\"content_ids\"].str.split()\n",
    "correlations = correlations.explode(\"content_ids\").rename(\n",
    "    columns={\"content_ids\": \"content_id\"}\n",
    ")\n",
    "correlations[\"content_language\"]= content_df.loc[content_df[\"id\"].isin(correlations[\"content_id\"].unique()), \"language\"]\n",
    "\n",
    "correlations[\"topic_language\"] = topics_df.loc[\n",
    "    topics_df[\"id\"].isin(correlations[\"topic_id\"]), \"language\"\n",
    "]\n",
    "\n",
    "correlations_filtered = correlations[correlations[\"content_language\"] == correlations[\"topic_language\"]]\n",
    "count_equal_language = correlations_filtered.groupby(\"topic_id\")[\"content_language\"].count()\n",
    "content_lang_ratio = count_equal_language.rename(\"equal_language\")\n",
    "\n",
    "\n",
    "correlations = correlations.merge(content_lang_ratio, on=\"topic_id\")\n",
    "correlations[\"radio\"] = (\n",
    "    correlations[\"equal_language\"] * 100 / correlations[\"count_content_id\"]\n",
    ")\n",
    "\n",
    "fil = correlations.loc[correlations[\"radio\"]!=100]\n",
    "fil"
   ]
  },
  {
   "cell_type": "code",
   "execution_count": 15,
   "id": "751d2e28",
   "metadata": {},
   "outputs": [
    {
     "data": {
      "image/png": "[encoded data removed]",
      "text/plain": [
       "<Figure size 1200x600 with 1 Axes>"
      ]
     },
     "metadata": {},
     "output_type": "display_data"
    }
   ],
   "source": [
    "content_ids_l_5 = correlations_df.loc[correlations_df[\"count_content_id\"] <= 5, \"content_ids\"]\n",
    "\n",
    "content_lang = content_df.loc[content_df[\"id\"].isin(content_ids_l_5), \"language\"]\n",
    "\n",
    "topic_lang = topics_df.loc[\n",
    "    topics_df[\"id\"].isin(correlations_df[\"topic_id\"].head(count_el_5)),\"language\"\n",
    "]\n",
    "\n",
    "stacked_categories = pd.DataFrame(\n",
    "    {\n",
    "        \"category\": pd.concat([content_lang, topic_lang], ignore_index=True),\n",
    "        \"content\": [\"topic\"] * len(topic_lang) + [\"content\"] * len(content_lang),\n",
    "    }\n",
    ")\n",
    "\n",
    "plt.figure(figsize=(12, 6))\n",
    "sns.countplot(x=stacked_categories[\"category\"], hue=stacked_categories[\"content\"]).set_yscale(\"log\")\n",
    "plt.show()"
   ]
  }
 ],
 "metadata": {
  "kernelspec": {
   "display_name": "newsela",
   "language": "python",
   "name": "python3"
  },
  "language_info": {
   "codemirror_mode": {
    "name": "ipython",
    "version": 3
   },
   "file_extension": ".py",
   "mimetype": "text/x-python",
   "name": "python",
   "nbconvert_exporter": "python",
   "pygments_lexer": "ipython3",
   "version": "3.12.8"
  }
 },
 "nbformat": 4,
 "nbformat_minor": 5
}
